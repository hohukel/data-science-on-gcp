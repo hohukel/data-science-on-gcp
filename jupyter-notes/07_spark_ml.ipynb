{
 "cells": [
  {
   "cell_type": "code",
   "execution_count": 1,
   "metadata": {},
   "outputs": [],
   "source": [
    "BUCKET='hohukelkazan'"
   ]
  },
  {
   "cell_type": "markdown",
   "metadata": {},
   "source": [
    "# Prepare\n",
    "\n",
    "以下の流れはベイズ分類の時と変わらない\n",
    "\n",
    "1. トレーニング日に関するデータのcsvの読み込み(スキーマ: header)\n",
    "2. 読み込んだトレーニング日に関するデータをSpark SQLビューに変換\n",
    "3. 飛行データのスキーマ定義\n",
    "4. 飛行データのcsvの読み込み(スキーマ: 3で読み込んだやつ)\n",
    "5. 読み込んだ飛行データをSpark SQLビューに変換\n",
    "6. 2,5の結果をjoinさせてトレーニングデータ作成\n"
   ]
  },
  {
   "cell_type": "markdown",
   "metadata": {},
   "source": [
    "\n",
    "\n"
   ]
  },
  {
   "cell_type": "code",
   "execution_count": 2,
   "metadata": {},
   "outputs": [],
   "source": [
    "# read\n",
    "traindays = spark.read \\\n",
    "    .option(\"header\", \"true\") \\\n",
    "    .csv('gs://{}/flights/trainday.csv'.format(BUCKET))"
   ]
  },
  {
   "cell_type": "code",
   "execution_count": 3,
   "metadata": {},
   "outputs": [],
   "source": [
    "# Spark SQLビューに変換\n",
    "traindays.createOrReplaceTempView('traindays')"
   ]
  },
  {
   "cell_type": "code",
   "execution_count": 4,
   "metadata": {},
   "outputs": [
    {
     "name": "stdout",
     "output_type": "stream",
     "text": [
      "StructType(List(StructField(FL_DATE,StringType,true),StructField(UNIQUE_CARRIER,StringType,true),StructField(AIRLINE_ID,StringType,true),StructField(CARRIER,StringType,true),StructField(FL_NUM,StringType,true),StructField(ORIGIN_AIRPORT_ID,StringType,true),StructField(ORIGIN_AIRPORT_SEQ_ID,StringType,true),StructField(ORIGIN_CITY_MARKET_ID,StringType,true),StructField(ORIGIN,StringType,true),StructField(DEST_AIRPORT_ID,StringType,true),StructField(DEST_AIRPORT_SEQ_ID,StringType,true),StructField(DEST_CITY_MARKET_ID,StringType,true),StructField(DEST,StringType,true),StructField(CRS_DEP_TIME,StringType,true),StructField(DEP_TIME,StringType,true),StructField(DEP_DELAY,FloatType,true),StructField(TAXI_OUT,FloatType,true),StructField(WHEELS_OFF,StringType,true),StructField(WHEELS_ON,StringType,true),StructField(TAXI_IN,StringType,true),StructField(CRS_ARR_TIME,StringType,true),StructField(ARR_TIME,StringType,true),StructField(ARR_DELAY,FloatType,true),StructField(CANCELLED,StringType,true),StructField(CANCELLATION_CODE,StringType,true),StructField(DIVERTED,StringType,true),StructField(DISTANCE,FloatType,true),StructField(DEP_AIRPORT_LAT,StringType,true),StructField(DEP_AIRPORT_LON,StringType,true),StructField(DEP_AIRPORT_TZOFFSET,StringType,true),StructField(ARR_AIRPORT_LAT,StringType,true),StructField(ARR_AIRPORT_LON,StringType,true),StructField(ARR_AIRPORT_TZOFFSET,StringType,true),StructField(EVENT,StringType,true),StructField(NOTIFY_TIME,StringType,true)))\n"
     ]
    }
   ],
   "source": [
    "# スキーマ定義(TAXI_OUTも数値型にする)\n",
    "from pyspark.sql.types import StringType, FloatType, StructType, StructField\n",
    "\n",
    "header = 'FL_DATE,UNIQUE_CARRIER,AIRLINE_ID,CARRIER,FL_NUM,ORIGIN_AIRPORT_ID,ORIGIN_AIRPORT_SEQ_ID,ORIGIN_CITY_MARKET_ID,ORIGIN,DEST_AIRPORT_ID,DEST_AIRPORT_SEQ_ID,DEST_CITY_MARKET_ID,DEST,CRS_DEP_TIME,DEP_TIME,DEP_DELAY,TAXI_OUT,WHEELS_OFF,WHEELS_ON,TAXI_IN,CRS_ARR_TIME,ARR_TIME,ARR_DELAY,CANCELLED,CANCELLATION_CODE,DIVERTED,DISTANCE,DEP_AIRPORT_LAT,DEP_AIRPORT_LON,DEP_AIRPORT_TZOFFSET,ARR_AIRPORT_LAT,ARR_AIRPORT_LON,ARR_AIRPORT_TZOFFSET,EVENT,NOTIFY_TIME'\n",
    "\n",
    "def get_structfield(colname):\n",
    "  if colname in ['ARR_DELAY', 'DEP_DELAY', 'DISTANCE', 'TAXI_OUT']:\n",
    "    return StructField(colname, FloatType(), True)\n",
    "  else:\n",
    "    return StructField(colname, StringType(), True)\n",
    "  \n",
    "schema = StructType([get_structfield(colname) for colname in header.split(',')])\n",
    "print(schema)"
   ]
  },
  {
   "cell_type": "code",
   "execution_count": 5,
   "metadata": {},
   "outputs": [],
   "source": [
    "inputs = 'gs://{}/flights/tzcorr/all_flights-00000-*'.format(BUCKET) # 1/30th\n",
    "#inputs = 'gs://{}/flights/tzcorr/all_flights-*'.format(BUCKET)\n",
    "flights_csv = spark.read\\\n",
    "            .schema(schema)\\\n",
    "            .csv(inputs)\n",
    "# tmpビュー作成\n",
    "flights_csv.createOrReplaceTempView('flights')"
   ]
  },
  {
   "cell_type": "code",
   "execution_count": 6,
   "metadata": {},
   "outputs": [],
   "source": [
    "# create train data\n",
    "traindayquery = \"\"\"\n",
    "select\n",
    "  f.DEP_DELAY, f.TAXI_OUT, f.ARR_DELAY, f.DISTANCE\n",
    "from flights f\n",
    "join traindays t\n",
    "on f.FL_DATE == t.FL_DATE\n",
    "where\n",
    "  t.is_train_day == 'True'\n",
    "\"\"\"\n",
    "traindata = spark.sql(traindayquery)"
   ]
  },
  {
   "cell_type": "code",
   "execution_count": 7,
   "metadata": {},
   "outputs": [
    {
     "name": "stdout",
     "output_type": "stream",
     "text": [
      "+-------+------------------+------------------+-------------------+------------------+\n",
      "|summary|         DEP_DELAY|          TAXI_OUT|          ARR_DELAY|          DISTANCE|\n",
      "+-------+------------------+------------------+-------------------+------------------+\n",
      "|  count|             11499|             11499|              11490|             11539|\n",
      "|   mean| 3.454648230280894|13.642751543612489|-1.5182767624020888| 730.1944709246902|\n",
      "| stddev|25.740781844738905| 7.044835806796173| 27.699119928843288|505.97999949572187|\n",
      "|    min|             -20.0|               3.0|              -49.0|              67.0|\n",
      "|    max|            1120.0|             136.0|             1116.0|            4983.0|\n",
      "+-------+------------------+------------------+-------------------+------------------+\n",
      "\n"
     ]
    }
   ],
   "source": [
    "# describe()メソッドは列ごとの統計情報を計算して、show()はその結果を表示するよ\n",
    "# NULLはカウントしないからcountに差がでるよ(ex. スケジュールされたけど出発しなかった場合など)\n",
    "traindata.describe().show()"
   ]
  },
  {
   "cell_type": "code",
   "execution_count": 8,
   "metadata": {},
   "outputs": [
    {
     "name": "stdout",
     "output_type": "stream",
     "text": [
      "+-------+------------------+------------------+-------------------+------------------+\n",
      "|summary|         DEP_DELAY|          TAXI_OUT|          ARR_DELAY|          DISTANCE|\n",
      "+-------+------------------+------------------+-------------------+------------------+\n",
      "|  count|             11490|             11490|              11490|             11490|\n",
      "|   mean| 3.439947780678851|13.639773716275021|-1.5182767624020888| 731.1500435161009|\n",
      "| stddev|25.697773876473068| 7.044639774520781| 27.699119928843288|506.55018097865286|\n",
      "|    min|             -20.0|               3.0|              -49.0|              67.0|\n",
      "|    max|            1120.0|             136.0|             1116.0|            4983.0|\n",
      "+-------+------------------+------------------+-------------------+------------------+\n",
      "\n"
     ]
    }
   ],
   "source": [
    "traindayquery = \"\"\"\n",
    "select\n",
    "  f.DEP_DELAY, f.TAXI_OUT, f.ARR_DELAY, f.DISTANCE\n",
    "from flights f\n",
    "join traindays t\n",
    "on f.FL_DATE == t.FL_DATE\n",
    "where\n",
    "  t.is_train_day == 'True' and\n",
    "  f.cancelled == '0.00' and\n",
    "  f.diverted == '0.00'\n",
    "\"\"\"\n",
    "traindata = spark.sql(traindayquery)\n",
    "traindata.describe().show()"
   ]
  },
  {
   "cell_type": "markdown",
   "metadata": {},
   "source": [
    " -> **COUNTに差が出なくなった**"
   ]
  },
  {
   "cell_type": "markdown",
   "metadata": {},
   "source": [
    "# トレーニング\n",
    "\n",
    "トレーニングデータの各レコードは、LabeldedPointクラスに変換する必要がある\n",
    "- https://spark.apache.org/docs/latest/api/java/org/apache/spark/ml/classification/LogisticRegressionModel.html\n",
    "\n",
    "**Label**\n",
    "- on-timeである確率を予測！"
   ]
  },
  {
   "cell_type": "code",
   "execution_count": 9,
   "metadata": {},
   "outputs": [],
   "source": [
    "from pyspark.mllib.classification import LogisticRegressionWithLBFGS\n",
    "from pyspark.mllib.regression import LabeledPoint\n",
    "import matplotlib.pyplot as plt\n",
    "import seaborn as sns\n",
    "import pandas as pd\n",
    "import numpy as np\n",
    "%matplotlib inline"
   ]
  },
  {
   "cell_type": "code",
   "execution_count": 10,
   "metadata": {},
   "outputs": [],
   "source": [
    "def to_example(fields):\n",
    "  return LabeledPoint(\\\n",
    "           float(fields['ARR_DELAY'] < 15), # on-time? \\\n",
    "           [\\\n",
    "             fields['DEP_DELAY'], \\\n",
    "             fields['TAXI_OUT'], \\\n",
    "             fields['DISTANCE'], \\\n",
    "           ])"
   ]
  },
  {
   "cell_type": "code",
   "execution_count": 11,
   "metadata": {},
   "outputs": [],
   "source": [
    "# トレーニング用のラベルと入力変数だけを取り出したデータ\n",
    "examples = traindata.rdd.map(to_example)"
   ]
  },
  {
   "cell_type": "markdown",
   "metadata": {},
   "source": [
    "### トレーニング実施"
   ]
  },
  {
   "cell_type": "code",
   "execution_count": 12,
   "metadata": {},
   "outputs": [
    {
     "name": "stdout",
     "output_type": "stream",
     "text": [
      "[-0.22138495484050652,-0.1950036261428732,0.0006005099885871358] 6.787218175020116\n"
     ]
    }
   ],
   "source": [
    "# intercept: 切片\n",
    "lrmodel = LogisticRegressionWithLBFGS.train(examples, intercept=True)\n",
    "print(lrmodel.weights, lrmodel.intercept)"
   ]
  },
  {
   "cell_type": "markdown",
   "metadata": {},
   "source": [
    "左から、出発遅延時間, タクシーアウト時間, フライト距離のウェイトと切片\n",
    "- 出発遅延時間、タクシーアウト時間: 大きくなるほどon-timeの確率下がる -> ウェイトがマイナス\n",
    "- フライト距離: 大きくなるほどon-timeの確率上がる -> ウェイトがプラス"
   ]
  },
  {
   "cell_type": "markdown",
   "metadata": {},
   "source": [
    "### モデル検証"
   ]
  },
  {
   "cell_type": "code",
   "execution_count": 13,
   "metadata": {},
   "outputs": [
    {
     "data": {
      "text/plain": [
       "1"
      ]
     },
     "execution_count": 13,
     "metadata": {},
     "output_type": "execute_result"
    }
   ],
   "source": [
    "lrmodel.predict([6.0, 12.0, 594.0])"
   ]
  },
  {
   "cell_type": "code",
   "execution_count": 14,
   "metadata": {},
   "outputs": [
    {
     "data": {
      "text/plain": [
       "0"
      ]
     },
     "execution_count": 14,
     "metadata": {},
     "output_type": "execute_result"
    }
   ],
   "source": [
    "lrmodel.predict([36.0, 12.0, 594.0])"
   ]
  },
  {
   "cell_type": "code",
   "execution_count": 15,
   "metadata": {},
   "outputs": [
    {
     "data": {
      "text/plain": [
       "0.9699845491569308"
      ]
     },
     "execution_count": 15,
     "metadata": {},
     "output_type": "execute_result"
    }
   ],
   "source": [
    "lrmodel.clearThreshold() # 予測結果を0,1で出力せずに確率で出力\n",
    "lrmodel.predict([6.0, 12.0, 594.0])"
   ]
  },
  {
   "cell_type": "code",
   "execution_count": 16,
   "metadata": {},
   "outputs": [
    {
     "data": {
      "text/plain": [
       "0.0404661885071159"
      ]
     },
     "execution_count": 16,
     "metadata": {},
     "output_type": "execute_result"
    }
   ],
   "source": [
    "lrmodel.predict([36.0, 12.0, 594.0])"
   ]
  },
  {
   "cell_type": "markdown",
   "metadata": {},
   "source": [
    "フライト時刻固定"
   ]
  },
  {
   "cell_type": "code",
   "execution_count": 17,
   "metadata": {},
   "outputs": [],
   "source": [
    "dist = np.arange(10, 2000, 10)\n",
    "prob = [lrmodel.predict([20, 10, d]) for d in dist]"
   ]
  },
  {
   "cell_type": "code",
   "execution_count": 18,
   "metadata": {},
   "outputs": [
    {
     "data": {
      "text/plain": [
       "Text(0,0.5,'probability of ontime arrival')"
      ]
     },
     "execution_count": 18,
     "metadata": {},
     "output_type": "execute_result"
    },
    {
     "name": "stderr",
     "output_type": "stream",
     "text": [
      "/usr/local/envs/py3env/lib/python3.5/site-packages/matplotlib/font_manager.py:1320: UserWarning: findfont: Font family ['sans-serif'] not found. Falling back to DejaVu Sans\n",
      "  (prop.get_family(), self.defaultFamily[fontext]))\n"
     ]
    },
    {
     "data": {
      "image/png": "[encoded data removed]",
      "text/plain": [
       "<matplotlib.figure.Figure at 0x7fd98bce8ac8>"
      ]
     },
     "metadata": {},
     "output_type": "display_data"
    }
   ],
   "source": [
    "sns.set_style(\"whitegrid\")\n",
    "ax = plt.plot(dist, prob)\n",
    "plt.xlabel('distance (miles)')\n",
    "plt.ylabel('probability of ontime arrival')"
   ]
  },
  {
   "cell_type": "markdown",
   "metadata": {},
   "source": [
    "出発遅延時間固定"
   ]
  },
  {
   "cell_type": "code",
   "execution_count": 19,
   "metadata": {},
   "outputs": [
    {
     "data": {
      "text/plain": [
       "[<matplotlib.lines.Line2D at 0x7fd98a1cb630>]"
      ]
     },
     "execution_count": 19,
     "metadata": {},
     "output_type": "execute_result"
    },
    {
     "name": "stderr",
     "output_type": "stream",
     "text": [
      "/usr/local/envs/py3env/lib/python3.5/site-packages/matplotlib/font_manager.py:1320: UserWarning: findfont: Font family ['sans-serif'] not found. Falling back to DejaVu Sans\n",
      "  (prop.get_family(), self.defaultFamily[fontext]))\n"
     ]
    },
    {
     "data": {
      "image/png": "[encoded data removed]",
      "text/plain": [
       "<matplotlib.figure.Figure at 0x7fd98a1484a8>"
      ]
     },
     "metadata": {},
     "output_type": "display_data"
    }
   ],
   "source": [
    "delay = np.arange(-20, 60, 1)\n",
    "prob = [lrmodel.predict([d, 10, 500]) for d in delay]\n",
    "plt.plot(delay, prob)"
   ]
  },
  {
   "cell_type": "markdown",
   "metadata": {},
   "source": [
    "タクシーアウト時間固定"
   ]
  },
  {
   "cell_type": "code",
   "execution_count": 20,
   "metadata": {},
   "outputs": [
    {
     "data": {
      "text/plain": [
       "[<matplotlib.lines.Line2D at 0x7fd98b7472b0>]"
      ]
     },
     "execution_count": 20,
     "metadata": {},
     "output_type": "execute_result"
    },
    {
     "name": "stderr",
     "output_type": "stream",
     "text": [
      "/usr/local/envs/py3env/lib/python3.5/site-packages/matplotlib/font_manager.py:1320: UserWarning: findfont: Font family ['sans-serif'] not found. Falling back to DejaVu Sans\n",
      "  (prop.get_family(), self.defaultFamily[fontext]))\n"
     ]
    },
    {
     "data": {
      "image/png": "[encoded data removed]",
      "text/plain": [
       "<matplotlib.figure.Figure at 0x7fd98a095b38>"
      ]
     },
     "metadata": {},
     "output_type": "display_data"
    }
   ],
   "source": [
    "t_out = np.arange(-10, 30, 1)\n",
    "prob = [lrmodel.predict([20, t, 500]) for t in t_out]\n",
    "plt.plot(t_out, prob)"
   ]
  },
  {
   "cell_type": "markdown",
   "metadata": {},
   "source": [
    "### モデルで予測する"
   ]
  },
  {
   "cell_type": "markdown",
   "metadata": {},
   "source": [
    "モデルの保存"
   ]
  },
  {
   "cell_type": "code",
   "execution_count": null,
   "metadata": {},
   "outputs": [],
   "source": [
    "MODEL_FILE"
   ]
  },
  {
   "cell_type": "code",
   "execution_count": 22,
   "metadata": {},
   "outputs": [
    {
     "data": {
      "text/html": [
       "\n",
       "        <div>\n",
       "            <p><b>SparkContext</b></p>\n",
       "\n",
       "            <p><a href=\"http://ch6cluster-m.us-central1-a.c.hohukelkazan.internal:4040\">Spark UI</a></p>\n",
       "\n",
       "            <dl>\n",
       "              <dt>Version</dt>\n",
       "                <dd><code>v2.3.4</code></dd>\n",
       "              <dt>Master</dt>\n",
       "                <dd><code>yarn</code></dd>\n",
       "              <dt>AppName</dt>\n",
       "                <dd><code>pyspark-shell</code></dd>\n",
       "            </dl>\n",
       "        </div>\n",
       "        "
      ],
      "text/plain": [
       "<SparkContext master=yarn appName=pyspark-shell>"
      ]
     },
     "execution_count": 22,
     "metadata": {},
     "output_type": "execute_result"
    }
   ],
   "source": [
    "sc"
   ]
  },
  {
   "cell_type": "markdown",
   "metadata": {},
   "source": [
    "モデルのロード"
   ]
  },
  {
   "cell_type": "code",
   "execution_count": 23,
   "metadata": {},
   "outputs": [],
   "source": [
    "from pyspark.mllib.classification import LogisticRegressionModel\n",
    "LOAD_MODEL_FILE = 'gs://' + BUCKET + '/flights/sparkmloutput/model'\n",
    "lrmodel = LogisticRegressionModel.load(sc, LOAD_MODEL_FILE)\n",
    "# 閾値を0.7に設定\n",
    "lrmodel.setThreshold(0.7)"
   ]
  },
  {
   "cell_type": "code",
   "execution_count": 24,
   "metadata": {},
   "outputs": [
    {
     "name": "stdout",
     "output_type": "stream",
     "text": [
      "0\n"
     ]
    }
   ],
   "source": [
    "print (lrmodel.predict([36.0, 12.0, 594.0]))"
   ]
  },
  {
   "cell_type": "markdown",
   "metadata": {},
   "source": [
    "### モデルの評価"
   ]
  },
  {
   "cell_type": "markdown",
   "metadata": {},
   "source": [
    "テストデータの作成\n",
    "- 1部のデータにis_train_day = 'False'の日付のデータが入っていない場合があるので必要に応じてロードするcsv変更"
   ]
  },
  {
   "cell_type": "code",
   "execution_count": 25,
   "metadata": {},
   "outputs": [],
   "source": [
    "# you may have to change this to find a shard that has test data\n",
    "inputs = 'gs://{}/flights/tzcorr/all_flights-00001-*'.format(BUCKET) # 1/30th\n",
    "#inputs = 'gs://{}/flights/tzcorr/all_flights-*'.format(BUCKET)\n",
    "flights_csv = spark.read\\\n",
    "            .schema(schema)\\\n",
    "            .csv(inputs)\n",
    "# tmpビュー作成\n",
    "flights_csv.createOrReplaceTempView('flights')"
   ]
  },
  {
   "cell_type": "code",
   "execution_count": 26,
   "metadata": {},
   "outputs": [
    {
     "name": "stdout",
     "output_type": "stream",
     "text": [
      "\n",
      "select\n",
      "  f.DEP_DELAY, f.TAXI_OUT, f.ARR_DELAY, f.DISTANCE\n",
      "from flights f\n",
      "join traindays t\n",
      "on f.FL_DATE == t.FL_DATE\n",
      "where\n",
      "  t.is_train_day == 'True' and\n",
      "  f.cancelled == '0.00' and\n",
      "  f.diverted == '0.00'\n",
      "\n"
     ]
    }
   ],
   "source": [
    "print(traindayquery)"
   ]
  },
  {
   "cell_type": "code",
   "execution_count": 27,
   "metadata": {},
   "outputs": [
    {
     "name": "stdout",
     "output_type": "stream",
     "text": [
      "\n",
      "select\n",
      "  f.DEP_DELAY, f.TAXI_OUT, f.ARR_DELAY, f.DISTANCE\n",
      "from flights f\n",
      "join traindays t\n",
      "on f.FL_DATE == t.FL_DATE\n",
      "where\n",
      "  t.is_train_day == 'False' and\n",
      "  f.cancelled == '0.00' and\n",
      "  f.diverted == '0.00'\n",
      "\n"
     ]
    }
   ],
   "source": [
    "testdayquery = traindayquery.replace(\\\n",
    "  \"t.is_train_day == 'True'\", \"t.is_train_day == 'False'\")\n",
    "print(testdayquery)"
   ]
  },
  {
   "cell_type": "code",
   "execution_count": 36,
   "metadata": {},
   "outputs": [
    {
     "data": {
      "text/plain": [
       "PythonRDD[111] at RDD at PythonRDD.scala:52"
      ]
     },
     "execution_count": 36,
     "metadata": {},
     "output_type": "execute_result"
    }
   ],
   "source": [
    "def to_example(fields):\n",
    "  return LabeledPoint(\\\n",
    "           float(fields['ARR_DELAY'] < 15), # on-time? \\\n",
    "           [\\\n",
    "             fields['DEP_DELAY'], \\\n",
    "             fields['TAXI_OUT'], \\\n",
    "             fields['DISTANCE'], \\\n",
    "           ])\n",
    "\n",
    "testdata = spark.sql(testdayquery)\n",
    "examples = testdata.rdd.map(to_example)"
   ]
  },
  {
   "cell_type": "code",
   "execution_count": 29,
   "metadata": {},
   "outputs": [
    {
     "name": "stdout",
     "output_type": "stream",
     "text": [
      "+-------+------------------+------------------+------------------+-----------------+\n",
      "|summary|         DEP_DELAY|          TAXI_OUT|         ARR_DELAY|         DISTANCE|\n",
      "+-------+------------------+------------------+------------------+-----------------+\n",
      "|  count|             12279|             12279|             12279|            12279|\n",
      "|   mean| 15.13747047805196|16.429921003339032|10.809675054971903|888.1460216630019|\n",
      "| stddev|45.245564391115856| 8.426630382956183|46.879360000828335|634.2444644273343|\n",
      "|    min|             -39.0|               1.0|             -65.0|             31.0|\n",
      "|    max|            1155.0|              94.0|            1142.0|           4983.0|\n",
      "+-------+------------------+------------------+------------------+-----------------+\n",
      "\n"
     ]
    }
   ],
   "source": [
    "testdata.describe().show()"
   ]
  },
  {
   "cell_type": "code",
   "execution_count": 30,
   "metadata": {},
   "outputs": [],
   "source": [
    "labelpred = examples.map(lambda p: (p.label, lrmodel.predict(p.features)))"
   ]
  },
  {
   "cell_type": "code",
   "execution_count": 54,
   "metadata": {},
   "outputs": [
    {
     "name": "stdout",
     "output_type": "stream",
     "text": [
      "1\n",
      "0\n",
      "0.6703432230526639\n",
      "0.9996063803828202\n",
      "0.018195984376394483\n"
     ]
    }
   ],
   "source": [
    "lrmodel.setThreshold(0.7) # cancel if prob-of-ontime < 0.7\n",
    "print (lrmodel.predict([6.0,12.0,594.0]))\n",
    "print (lrmodel.predict([36.0,12.0,594.0]))\n",
    "\n",
    "lrmodel.clearThreshold() # to make the model produce probabilities\n",
    "# For dep_delay=20, taxiout=10 and distance=500, how does the distance affect prediction?\n",
    "print (lrmodel.predict([20, 10, 500]))\n",
    "print (lrmodel.predict([0, 10, 5000]))\n",
    "print (lrmodel.predict([40, 10, 50]))"
   ]
  },
  {
   "cell_type": "markdown",
   "metadata": {},
   "source": [
    "Exampleから予測に必要な変数を取り出し、モデルが予測したラベルと、真のラベルを含むデータフレームを作成"
   ]
  },
  {
   "cell_type": "code",
   "execution_count": 48,
   "metadata": {},
   "outputs": [],
   "source": [
    "# lp -> (label, predict)\n",
    "# lp[0] -> Label(0 or 1)\n",
    "# lp[1] -> 予測値(0~1)\n",
    "def eval(labelpred):\n",
    "    cancel = labelpred.filter(lambda lp: lp[1] < 0.7) # on-timeの確率が70%未満 -> キャンセル\n",
    "    nocancel = labelpred.filter(lambda lp: lp[1] >= 0.7) # on-timeの確率が70%以上 -> ノンキャンセル\n",
    "    corr_cancel = cancel.filter(lambda lp: lp[0] == int(lp[1] >= 0.7)).count() # lp[0]=0であるとの予測があたった数\n",
    "    corr_nocancel = nocancel.filter(lambda lp: lp[0] == int(lp[1] >= 0.7)).count() # lp[0]=1であるとの予測があたった数\n",
    "    \n",
    "    cancel_denom = cancel.count() # キャンセルした数\n",
    "    nocancel_denom = nocancel.count() # キャンセルしなった数\n",
    "    \n",
    "    # 0で割ることを防ぐ\n",
    "    if cancel_denom == 0:\n",
    "        cancel_denom = 1\n",
    "    if nocancel_denom == 0:\n",
    "        nocancel_denom = 1\n",
    "    return {'total_cancel': cancel.count(), \\\n",
    "            'correct_cancel': float(corr_cancel)/cancel_denom, \\\n",
    "            'total_noncancel': nocancel.count(), \\\n",
    "            'correct_noncancel': float(corr_nocancel)/nocancel_denom \\\n",
    "           }  "
   ]
  },
  {
   "cell_type": "code",
   "execution_count": null,
   "metadata": {},
   "outputs": [],
   "source": []
  },
  {
   "cell_type": "code",
   "execution_count": 50,
   "metadata": {},
   "outputs": [
    {
     "name": "stdout",
     "output_type": "stream",
     "text": [
      "All flights:\n",
      "{'total_cancel': 3390, 'total_noncancel': 8889, 'correct_cancel': 0.7772861356932154, 'correct_noncancel': 0.9363257959275509}\n",
      "Flights near decision threshold:\n",
      "{'total_cancel': 152, 'total_noncancel': 163, 'correct_cancel': 0.27631578947368424, 'correct_noncancel': 0.7361963190184049}\n"
     ]
    }
   ],
   "source": [
    "# Evaluate model\n",
    "lrmodel.clearThreshold() # so it returns probabilities\n",
    "labelpred = examples.map(lambda p: (p.label, lrmodel.predict(p.features)))\n",
    "print ('All flights:')\n",
    "print (eval(labelpred))\n",
    "\n",
    "# keep only those examples near the decision threshold\n",
    "print ('Flights near decision threshold:')\n",
    "labelpred = labelpred.filter(lambda lp: lp[1] > 0.65 and lp[1] < 0.75)\n",
    "print (eval(labelpred))"
   ]
  },
  {
   "cell_type": "markdown",
   "metadata": {},
   "source": [
    "on-timeの確率が0.65~0.75と予測されたlabelpredのみを使用してevalすると予想通りcorrect_noncancel70%付近になっている"
   ]
  }
 ],
 "metadata": {
  "kernelspec": {
   "display_name": "Python 3",
   "language": "python",
   "name": "python3"
  }
 },
 "nbformat": 4,
 "nbformat_minor": 2
}
