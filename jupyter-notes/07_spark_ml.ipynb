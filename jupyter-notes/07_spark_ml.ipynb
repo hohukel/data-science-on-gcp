{
 "cells": [
  {
   "cell_type": "code",
   "execution_count": 4,
   "metadata": {},
   "outputs": [],
   "source": [
    "BUCKET='hohukelkazan'"
   ]
  },
  {
   "cell_type": "markdown",
   "metadata": {},
   "source": [
    "# Prepare\n",
    "\n",
    "以下の流れはベイズ分類の時と変わらない\n",
    "\n",
    "1. トレーニング日に関するデータのcsvの読み込み(スキーマ: header)\n",
    "2. 読み込んだトレーニング日に関するデータをSpark SQLビューに変換\n",
    "3. 飛行データのスキーマ定義\n",
    "4. 飛行データのcsvの読み込み(スキーマ: 3で読み込んだやつ)\n",
    "5. 読み込んだ飛行データをSpark SQLビューに変換\n",
    "6. 2,5の結果をjoinさせてトレーニングデータ作成\n"
   ]
  },
  {
   "cell_type": "markdown",
   "metadata": {},
   "source": [
    "\n",
    "\n"
   ]
  },
  {
   "cell_type": "code",
   "execution_count": 5,
   "metadata": {},
   "outputs": [],
   "source": [
    "# read\n",
    "traindays = spark.read \\\n",
    "    .option(\"header\", \"true\") \\\n",
    "    .csv('gs://{}/flights/trainday.csv'.format(BUCKET))"
   ]
  },
  {
   "cell_type": "code",
   "execution_count": 6,
   "metadata": {},
   "outputs": [],
   "source": [
    "# Spark SQLビューに変換\n",
    "traindays.createOrReplaceTempView('traindays')"
   ]
  },
  {
   "cell_type": "code",
   "execution_count": 7,
   "metadata": {},
   "outputs": [
    {
     "name": "stdout",
     "output_type": "stream",
     "text": [
      "StructType(List(StructField(FL_DATE,StringType,true),StructField(UNIQUE_CARRIER,StringType,true),StructField(AIRLINE_ID,StringType,true),StructField(CARRIER,StringType,true),StructField(FL_NUM,StringType,true),StructField(ORIGIN_AIRPORT_ID,StringType,true),StructField(ORIGIN_AIRPORT_SEQ_ID,StringType,true),StructField(ORIGIN_CITY_MARKET_ID,StringType,true),StructField(ORIGIN,StringType,true),StructField(DEST_AIRPORT_ID,StringType,true),StructField(DEST_AIRPORT_SEQ_ID,StringType,true),StructField(DEST_CITY_MARKET_ID,StringType,true),StructField(DEST,StringType,true),StructField(CRS_DEP_TIME,StringType,true),StructField(DEP_TIME,StringType,true),StructField(DEP_DELAY,FloatType,true),StructField(TAXI_OUT,FloatType,true),StructField(WHEELS_OFF,StringType,true),StructField(WHEELS_ON,StringType,true),StructField(TAXI_IN,StringType,true),StructField(CRS_ARR_TIME,StringType,true),StructField(ARR_TIME,StringType,true),StructField(ARR_DELAY,FloatType,true),StructField(CANCELLED,StringType,true),StructField(CANCELLATION_CODE,StringType,true),StructField(DIVERTED,StringType,true),StructField(DISTANCE,FloatType,true),StructField(DEP_AIRPORT_LAT,StringType,true),StructField(DEP_AIRPORT_LON,StringType,true),StructField(DEP_AIRPORT_TZOFFSET,StringType,true),StructField(ARR_AIRPORT_LAT,StringType,true),StructField(ARR_AIRPORT_LON,StringType,true),StructField(ARR_AIRPORT_TZOFFSET,StringType,true),StructField(EVENT,StringType,true),StructField(NOTIFY_TIME,StringType,true)))\n"
     ]
    }
   ],
   "source": [
    "# スキーマ定義(TAXI_OUTも数値型にする)\n",
    "from pyspark.sql.types import StringType, FloatType, StructType, StructField\n",
    "\n",
    "header = 'FL_DATE,UNIQUE_CARRIER,AIRLINE_ID,CARRIER,FL_NUM,ORIGIN_AIRPORT_ID,ORIGIN_AIRPORT_SEQ_ID,ORIGIN_CITY_MARKET_ID,ORIGIN,DEST_AIRPORT_ID,DEST_AIRPORT_SEQ_ID,DEST_CITY_MARKET_ID,DEST,CRS_DEP_TIME,DEP_TIME,DEP_DELAY,TAXI_OUT,WHEELS_OFF,WHEELS_ON,TAXI_IN,CRS_ARR_TIME,ARR_TIME,ARR_DELAY,CANCELLED,CANCELLATION_CODE,DIVERTED,DISTANCE,DEP_AIRPORT_LAT,DEP_AIRPORT_LON,DEP_AIRPORT_TZOFFSET,ARR_AIRPORT_LAT,ARR_AIRPORT_LON,ARR_AIRPORT_TZOFFSET,EVENT,NOTIFY_TIME'\n",
    "\n",
    "def get_structfield(colname):\n",
    "  if colname in ['ARR_DELAY', 'DEP_DELAY', 'DISTANCE', 'TAXI_OUT']:\n",
    "    return StructField(colname, FloatType(), True)\n",
    "  else:\n",
    "    return StructField(colname, StringType(), True)\n",
    "  \n",
    "schema = StructType([get_structfield(colname) for colname in header.split(',')])\n",
    "print(schema)"
   ]
  },
  {
   "cell_type": "code",
   "execution_count": 8,
   "metadata": {},
   "outputs": [],
   "source": [
    "inputs = 'gs://{}/flights/tzcorr/all_flights-00000-*'.format(BUCKET) # 1/30th\n",
    "#inputs = 'gs://{}/flights/tzcorr/all_flights-*'.format(BUCKET)\n",
    "flights_csv = spark.read\\\n",
    "            .schema(schema)\\\n",
    "            .csv(inputs)\n",
    "# tmpビュー作成\n",
    "flights_csv.createOrReplaceTempView('flights')"
   ]
  },
  {
   "cell_type": "code",
   "execution_count": 9,
   "metadata": {},
   "outputs": [],
   "source": [
    "# create train data\n",
    "traindayquery = \"\"\"\n",
    "select\n",
    "  f.*\n",
    "from flights f\n",
    "join traindays t\n",
    "on f.FL_DATE == t.FL_DATE\n",
    "where\n",
    "  t.is_train_day == 'True'\n",
    "\"\"\"\n",
    "traindata = spark.sql(traindayquery)"
   ]
  },
  {
   "cell_type": "code",
   "execution_count": 10,
   "metadata": {},
   "outputs": [
    {
     "name": "stdout",
     "output_type": "stream",
     "text": [
      "+-------+----------+--------------+------------------+-------+------------------+------------------+---------------------+---------------------+------+------------------+-------------------+-------------------+-----+-------------------+-------------------+------------------+------------------+-------------------+-------------------+------------------+-------------------+-------------------+-------------------+--------------------+-----------------+--------------------+------------------+------------------+------------------+--------------------+-----------------+------------------+--------------------+-----+-----------+\n",
      "|summary|   FL_DATE|UNIQUE_CARRIER|        AIRLINE_ID|CARRIER|            FL_NUM| ORIGIN_AIRPORT_ID|ORIGIN_AIRPORT_SEQ_ID|ORIGIN_CITY_MARKET_ID|ORIGIN|   DEST_AIRPORT_ID|DEST_AIRPORT_SEQ_ID|DEST_CITY_MARKET_ID| DEST|       CRS_DEP_TIME|           DEP_TIME|         DEP_DELAY|          TAXI_OUT|         WHEELS_OFF|          WHEELS_ON|           TAXI_IN|       CRS_ARR_TIME|           ARR_TIME|          ARR_DELAY|           CANCELLED|CANCELLATION_CODE|            DIVERTED|          DISTANCE|   DEP_AIRPORT_LAT|   DEP_AIRPORT_LON|DEP_AIRPORT_TZOFFSET|  ARR_AIRPORT_LAT|   ARR_AIRPORT_LON|ARR_AIRPORT_TZOFFSET|EVENT|NOTIFY_TIME|\n",
      "+-------+----------+--------------+------------------+-------+------------------+------------------+---------------------+---------------------+------+------------------+-------------------+-------------------+-----+-------------------+-------------------+------------------+------------------+-------------------+-------------------+------------------+-------------------+-------------------+-------------------+--------------------+-----------------+--------------------+------------------+------------------+------------------+--------------------+-----------------+------------------+--------------------+-----+-----------+\n",
      "|  count|     11539|         11539|             11539|  11539|             11539|             11539|                11539|                11539| 11539|             11539|              11539|              11539|11539|              11539|              11499|             11499|             11499|              11499|              11499|             11499|              11539|              11499|              11490|               11539|               40|               11539|             11539|             11539|             11539|               11539|            11539|             11539|               11539|    0|          0|\n",
      "|   mean|      null|          null|19673.665482277494|   null|1881.9759077909698|12609.915417280527|   1260994.3698760725|   31672.107721639655|  null| 12603.89756478031|  1260392.584799376| 31664.906317705172| null|               null|               null| 3.454648230280894|13.642751543612489|               null|               null| 6.524654317766762|               null|               null|-1.5182767624020888|0.003466504896438...|             null|7.799636016985874E-4| 730.1944709246902|36.365235722643774|-95.87930619425826|  -18771.53999480024|36.35624459593503|  -95.746734288342|  -18739.40549441026| null|       null|\n",
      "| stddev|      null|          null| 438.8839758809937|   null| 1439.891497824474| 1572.769888991099|   157276.62515063293|   1255.1170742565434|  null|1565.8152406679128|  156581.1631547616| 1246.0791757197314| null|               null|               null|25.740781844738905| 7.044835806796173|               null|               null|3.8474990973756245|               null|               null| 27.699119928843288|   0.058777441601332|             null|0.027918144732465455|505.97999949572187| 4.959070238578499|16.533793727071235|   4648.183567953325|4.966989035021112|16.544272560237804|   4641.440177346901| null|       null|\n",
      "|    min|2015-10-27|            DL|             19393|     DL|                 1|             10135|              1013503|                30135|   ABE|             10135|            1013503|              30135|  ABE|2015-10-27 07:05:00|2015-10-27 04:25:00|             -20.0|               3.0|2015-10-27 04:45:00|2015-10-27 06:37:00|              1.00|2015-10-27 09:22:00|2015-10-27 06:44:00|              -49.0|                0.00|                A|                0.00|              67.0|       18.43944444|     -100.74583333|            -14400.0|      18.43944444|     -100.74583333|            -14400.0| null|       null|\n",
      "|    max|2015-10-28|            WN|             21171|     WN|               994|             15919|              1591902|                35550|   XNA|             15919|            1591902|              35550|  XNA|2015-10-29 07:25:00|2015-10-29 07:22:00|            1120.0|             136.0|2015-10-29 07:31:00|2015-10-29 12:45:00|              9.00|2015-10-30 05:30:00|2015-10-29 12:53:00|             1116.0|                1.00|                C|                1.00|            4983.0|       61.17416667|      -99.46166667|                   0|      61.17416667|      -99.46166667|                   0| null|       null|\n",
      "+-------+----------+--------------+------------------+-------+------------------+------------------+---------------------+---------------------+------+------------------+-------------------+-------------------+-----+-------------------+-------------------+------------------+------------------+-------------------+-------------------+------------------+-------------------+-------------------+-------------------+--------------------+-----------------+--------------------+------------------+------------------+------------------+--------------------+-----------------+------------------+--------------------+-----+-----------+\n",
      "\n"
     ]
    }
   ],
   "source": [
    "# describe()メソッドは列ごとの統計情報を計算して、show()はその結果を表示するよ\n",
    "# NULLはカウントしないからcountに差がでるよ(ex. スケジュールされたけど出発しなかった場合など)\n",
    "traindata.describe().show()"
   ]
  },
  {
   "cell_type": "markdown",
   "metadata": {},
   "source": [
    " -> すべてのcount数が同じになった  \n",
    " ただ根本解決にはなってない\n",
    " -> キャンセル、迂回が発生したかを表す絡むを見てレコードを絞った方が確実"
   ]
  },
  {
   "cell_type": "code",
   "execution_count": 11,
   "metadata": {},
   "outputs": [
    {
     "name": "stdout",
     "output_type": "stream",
     "text": [
      "+---------+--------+\n",
      "|cancelled|diverted|\n",
      "+---------+--------+\n",
      "|     0.00|    0.00|\n",
      "|     0.00|    0.00|\n",
      "|     0.00|    0.00|\n",
      "|     0.00|    0.00|\n",
      "|     0.00|    0.00|\n",
      "|     0.00|    0.00|\n",
      "|     0.00|    0.00|\n",
      "|     0.00|    0.00|\n",
      "|     0.00|    0.00|\n",
      "|     0.00|    0.00|\n",
      "+---------+--------+\n",
      "\n",
      "+---------+--------+\n",
      "|cancelled|diverted|\n",
      "+---------+--------+\n",
      "|     1.00|    0.00|\n",
      "|     1.00|    0.00|\n",
      "|     1.00|    0.00|\n",
      "|     1.00|    0.00|\n",
      "|     1.00|    0.00|\n",
      "|     1.00|    0.00|\n",
      "|     1.00|    0.00|\n",
      "|     1.00|    0.00|\n",
      "|     1.00|    0.00|\n",
      "|     1.00|    0.00|\n",
      "+---------+--------+\n",
      "\n",
      "+---------+--------+\n",
      "|cancelled|diverted|\n",
      "+---------+--------+\n",
      "|     0.00|    1.00|\n",
      "|     0.00|    1.00|\n",
      "|     0.00|    1.00|\n",
      "|     0.00|    1.00|\n",
      "|     0.00|    1.00|\n",
      "|     0.00|    1.00|\n",
      "|     0.00|    1.00|\n",
      "|     0.00|    1.00|\n",
      "|     0.00|    1.00|\n",
      "+---------+--------+\n",
      "\n"
     ]
    }
   ],
   "source": [
    "query = \"\"\"\n",
    "select\n",
    "  cancelled, diverted\n",
    "from flights\n",
    "limit 10\n",
    "\"\"\"\n",
    "spark.sql(query).show()\n",
    "\n",
    "query = \"\"\"\n",
    "select\n",
    "  cancelled, diverted\n",
    "from flights\n",
    "where\n",
    "  cancelled != '0.00'\n",
    "limit 10\n",
    "\"\"\"\n",
    "spark.sql(query).show()\n",
    "\n",
    "query = \"\"\"\n",
    "select\n",
    "  cancelled, diverted\n",
    "from flights\n",
    "where\n",
    "  diverted != '0.00'\n",
    "limit 10\n",
    "\"\"\"\n",
    "spark.sql(query).show()"
   ]
  },
  {
   "cell_type": "markdown",
   "metadata": {},
   "source": [
    "どうやらキャンセルされたか、迂回されたかは0,1で格納されているみたい"
   ]
  },
  {
   "cell_type": "code",
   "execution_count": 12,
   "metadata": {},
   "outputs": [
    {
     "name": "stdout",
     "output_type": "stream",
     "text": [
      "+-------+----------+--------------+------------------+-------+------------------+------------------+---------------------+---------------------+------+------------------+-------------------+-------------------+-----+-------------------+-------------------+------------------+------------------+-------------------+-------------------+-----------------+-------------------+-------------------+-------------------+---------+-----------------+--------+------------------+------------------+------------------+--------------------+------------------+------------------+--------------------+-----+-----------+\n",
      "|summary|   FL_DATE|UNIQUE_CARRIER|        AIRLINE_ID|CARRIER|            FL_NUM| ORIGIN_AIRPORT_ID|ORIGIN_AIRPORT_SEQ_ID|ORIGIN_CITY_MARKET_ID|ORIGIN|   DEST_AIRPORT_ID|DEST_AIRPORT_SEQ_ID|DEST_CITY_MARKET_ID| DEST|       CRS_DEP_TIME|           DEP_TIME|         DEP_DELAY|          TAXI_OUT|         WHEELS_OFF|          WHEELS_ON|          TAXI_IN|       CRS_ARR_TIME|           ARR_TIME|          ARR_DELAY|CANCELLED|CANCELLATION_CODE|DIVERTED|          DISTANCE|   DEP_AIRPORT_LAT|   DEP_AIRPORT_LON|DEP_AIRPORT_TZOFFSET|   ARR_AIRPORT_LAT|   ARR_AIRPORT_LON|ARR_AIRPORT_TZOFFSET|EVENT|NOTIFY_TIME|\n",
      "+-------+----------+--------------+------------------+-------+------------------+------------------+---------------------+---------------------+------+------------------+-------------------+-------------------+-----+-------------------+-------------------+------------------+------------------+-------------------+-------------------+-----------------+-------------------+-------------------+-------------------+---------+-----------------+--------+------------------+------------------+------------------+--------------------+------------------+------------------+--------------------+-----+-----------+\n",
      "|  count|     11490|         11490|             11490|  11490|             11490|             11490|                11490|                11490| 11490|             11490|              11490|              11490|11490|              11490|              11490|             11490|             11490|              11490|              11490|            11490|              11490|              11490|              11490|    11490|                0|   11490|             11490|             11490|             11490|               11490|             11490|             11490|               11490|    0|          0|\n",
      "|   mean|      null|          null|19674.409834638816|   null|1880.1333333333334|12607.244299390775|   1260727.2583986074|    31670.54960835509|  null|12600.622541340295| 1260065.0818102697| 31663.256744995648| null|               null|               null| 3.439947780678851|13.639773716275021|               null|               null|6.522193211488251|               null|               null|-1.5182767624020888|      0.0|             null|     0.0| 731.1500435161009|36.360367808066655| -95.8398419164455|  -18837.80678851175|  36.3538491928472|-95.70476445777194|  -18805.84856396867| null|       null|\n",
      "| stddev|      null|          null| 439.2523571047806|   null|1441.0682203779343|1572.9680298003873|   157296.43786598832|    1255.805913681978|  null| 1566.205577126914| 156620.19604746814| 1246.9948972251157| null|               null|               null|25.697773876473068| 7.044639774520781|               null|               null|3.846869118299087|               null|               null| 27.699119928843288|      0.0|             null|     0.0|506.55018097865286| 4.963555626735342|16.516150827738347|   4523.019879299427|4.9697650378823495|16.526088308538903|   4516.352306474003| null|       null|\n",
      "|    min|2015-10-27|            DL|             19393|     DL|                 1|             10135|              1013503|                30135|   ABE|             10135|            1013503|              30135|  ABE|2015-10-27 07:05:00|2015-10-27 04:25:00|             -20.0|               3.0|2015-10-27 04:45:00|2015-10-27 06:37:00|             1.00|2015-10-27 09:22:00|2015-10-27 06:44:00|              -49.0|     0.00|             null|    0.00|              67.0|       18.43944444|     -100.74583333|            -14400.0|       18.43944444|     -100.74583333|            -14400.0| null|       null|\n",
      "|    max|2015-10-28|            WN|             21171|     WN|               994|             15919|              1591902|                35550|   XNA|             15919|            1591902|              35550|  XNA|2015-10-29 07:25:00|2015-10-29 07:22:00|            1120.0|             136.0|2015-10-29 07:31:00|2015-10-29 12:45:00|             9.00|2015-10-30 05:30:00|2015-10-29 12:53:00|             1116.0|     0.00|             null|    0.00|            4983.0|       61.17416667|      -99.46166667|            -36000.0|       61.17416667|      -99.46166667|            -36000.0| null|       null|\n",
      "+-------+----------+--------------+------------------+-------+------------------+------------------+---------------------+---------------------+------+------------------+-------------------+-------------------+-----+-------------------+-------------------+------------------+------------------+-------------------+-------------------+-----------------+-------------------+-------------------+-------------------+---------+-----------------+--------+------------------+------------------+------------------+--------------------+------------------+------------------+--------------------+-----+-----------+\n",
      "\n"
     ]
    }
   ],
   "source": [
    "# もっとしっかり取り除こう\n",
    "traindayquery = \"\"\"\n",
    "select\n",
    "  f.*\n",
    "from flights f\n",
    "join traindays t\n",
    "on f.FL_DATE == t.FL_DATE\n",
    "where\n",
    "  t.is_train_day == 'True' and\n",
    "  f.cancelled == '0.00' and\n",
    "  f.diverted == '0.00'\n",
    "\"\"\"\n",
    "traindata = spark.sql(traindayquery)\n",
    "traindata.describe().show()"
   ]
  },
  {
   "cell_type": "markdown",
   "metadata": {},
   "source": [
    "NULLを除外した時と同じ結果が得られた"
   ]
  },
  {
   "cell_type": "markdown",
   "metadata": {},
   "source": [
    "# トレーニング\n",
    "\n",
    "トレーニングデータの各レコードは、LabeldedPointクラスに変換する必要がある\n",
    "- https://spark.apache.org/docs/latest/api/java/org/apache/spark/ml/classification/LogisticRegressionModel.html"
   ]
  },
  {
   "cell_type": "code",
   "execution_count": 32,
   "metadata": {},
   "outputs": [],
   "source": [
    "from pyspark.mllib.classification import LogisticRegressionWithLBFGS\n",
    "from pyspark.mllib.regression import LabeledPoint\n",
    "import matplotlib.pyplot as plt\n",
    "import seaborn as sns\n",
    "import pandas as pd\n",
    "import numpy as np\n",
    "%matplotlib inline"
   ]
  },
  {
   "cell_type": "code",
   "execution_count": 14,
   "metadata": {},
   "outputs": [],
   "source": [
    "def to_example(fields):\n",
    "  return LabeledPoint(\\\n",
    "           float(fields['ARR_DELAY'] < 15), # on-time? \\\n",
    "           [\\\n",
    "             fields['DEP_DELAY'], \\\n",
    "             fields['TAXI_OUT'], \\\n",
    "             fields['DISTANCE'], \\\n",
    "           ])"
   ]
  },
  {
   "cell_type": "code",
   "execution_count": 15,
   "metadata": {},
   "outputs": [],
   "source": [
    "# トレーニング用のラベルと入力変数だけを取り出したデータ\n",
    "examples = traindata.rdd.map(to_example)"
   ]
  },
  {
   "cell_type": "markdown",
   "metadata": {},
   "source": [
    "### トレーニング実施"
   ]
  },
  {
   "cell_type": "code",
   "execution_count": 16,
   "metadata": {},
   "outputs": [
    {
     "name": "stdout",
     "output_type": "stream",
     "text": [
      "[-0.22138495484050652,-0.1950036261428732,0.0006005099885871358] 6.787218175020116\n"
     ]
    }
   ],
   "source": [
    "# intercept: 切片\n",
    "lrmodel = LogisticRegressionWithLBFGS.train(examples, intercept=True)\n",
    "print(lrmodel.weights, lrmodel.intercept)"
   ]
  },
  {
   "cell_type": "markdown",
   "metadata": {},
   "source": [
    "左から、出発遅延時間, タクシーアウト時間, フライト距離のウェイトと切片\n",
    "- 出発遅延時間、タクシーアウト時間: 大きくなるほどon-timeの確率下がる -> ウェイトがマイナス\n",
    "- フライト距離: 大きくなるほどon-timeの確率上がる -> ウェイトがプラス"
   ]
  },
  {
   "cell_type": "markdown",
   "metadata": {},
   "source": [
    "### 予測"
   ]
  },
  {
   "cell_type": "code",
   "execution_count": 17,
   "metadata": {},
   "outputs": [
    {
     "data": {
      "text/plain": [
       "1"
      ]
     },
     "execution_count": 17,
     "metadata": {},
     "output_type": "execute_result"
    }
   ],
   "source": [
    "lrmodel.predict([6.0, 12.0, 594.0])"
   ]
  },
  {
   "cell_type": "code",
   "execution_count": 18,
   "metadata": {},
   "outputs": [
    {
     "data": {
      "text/plain": [
       "0"
      ]
     },
     "execution_count": 18,
     "metadata": {},
     "output_type": "execute_result"
    }
   ],
   "source": [
    "lrmodel.predict([36.0, 12.0, 594.0])"
   ]
  },
  {
   "cell_type": "code",
   "execution_count": 21,
   "metadata": {},
   "outputs": [
    {
     "data": {
      "text/plain": [
       "0.9699845491569308"
      ]
     },
     "execution_count": 21,
     "metadata": {},
     "output_type": "execute_result"
    }
   ],
   "source": [
    "lrmodel.clearThreshold()\n",
    "lrmodel.predict([6.0, 12.0, 594.0])"
   ]
  },
  {
   "cell_type": "code",
   "execution_count": 22,
   "metadata": {},
   "outputs": [
    {
     "data": {
      "text/plain": [
       "0.0404661885071159"
      ]
     },
     "execution_count": 22,
     "metadata": {},
     "output_type": "execute_result"
    }
   ],
   "source": [
    "lrmodel.predict([36.0, 12.0, 594.0])"
   ]
  },
  {
   "cell_type": "code",
   "execution_count": 33,
   "metadata": {},
   "outputs": [],
   "source": [
    "dist = np.arange(36.0, 12.0, 594.0)\n",
    "#dist = np.arange(10, 2000, 10)\n",
    "prob = [lrmodel.predict([20, 10, d]) for d in dist]"
   ]
  },
  {
   "cell_type": "code",
   "execution_count": 34,
   "metadata": {},
   "outputs": [
    {
     "data": {
      "text/plain": [
       "Text(0,0.5,'probability of ontime arrival')"
      ]
     },
     "execution_count": 34,
     "metadata": {},
     "output_type": "execute_result"
    },
    {
     "name": "stderr",
     "output_type": "stream",
     "text": [
      "/usr/local/envs/py3env/lib/python3.5/site-packages/matplotlib/font_manager.py:1320: UserWarning: findfont: Font family ['sans-serif'] not found. Falling back to DejaVu Sans\n",
      "  (prop.get_family(), self.defaultFamily[fontext]))\n"
     ]
    },
    {
     "data": {
      "image/png": "[encoded data removed]",
      "text/plain": [
       "<matplotlib.figure.Figure at 0x7fea8ea09dd8>"
      ]
     },
     "metadata": {},
     "output_type": "display_data"
    }
   ],
   "source": [
    "sns.set_style(\"whitegrid\")\n",
    "ax = plt.plot(dist, prob)\n",
    "plt.xlabel('distance (miles)')\n",
    "plt.ylabel('probability of ontime arrival')"
   ]
  },
  {
   "cell_type": "code",
   "execution_count": null,
   "metadata": {},
   "outputs": [],
   "source": []
  }
 ],
 "metadata": {
  "kernelspec": {
   "display_name": "Python 3",
   "language": "python",
   "name": "python3"
  },
  "language_info": {
   "codemirror_mode": {
    "name": "ipython",
    "version": 3
   },
   "file_extension": ".py",
   "mimetype": "text/x-python",
   "name": "python",
   "nbconvert_exporter": "python",
   "pygments_lexer": "ipython3",
   "version": "3.5.6"
  }
 },
 "nbformat": 4,
 "nbformat_minor": 2
}
